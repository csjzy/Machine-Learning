{
 "cells": [
  {
   "cell_type": "code",
   "execution_count": 22,
   "metadata": {
    "collapsed": true
   },
   "outputs": [],
   "source": [
    "# Marketing response prediction based on AdaBoost\n",
    "import time \n",
    "import numpy as np  \n",
    "import pandas as pd  \n",
    "from sklearn.preprocessing import OneHotEncoder  \n",
    "from sklearn.model_selection import StratifiedKFold, cross_val_score  \n",
    "from sklearn.feature_selection import SelectPercentile, f_classif  \n",
    "from sklearn.ensemble import AdaBoostClassifier  \n",
    "from sklearn.pipeline import Pipeline  \n",
    "from sklearn.metrics import accuracy_score  \n"
   ]
  },
  {
   "cell_type": "code",
   "execution_count": 23,
   "metadata": {
    "collapsed": false
   },
   "outputs": [
    {
     "name": "stderr",
     "output_type": "stream",
     "text": [
      "/usr/local/lib/python3.5/dist-packages/pandas/util/_decorators.py:118: FutureWarning: The `sheetname` keyword is deprecated, use `sheet_name` instead\n",
      "  return func(*args, **kwargs)\n"
     ]
    }
   ],
   "source": [
    "data = pd.read_excel('../../data/order.xlsx', sheetname=0) "
   ]
  },
  {
   "cell_type": "code",
   "execution_count": 24,
   "metadata": {
    "collapsed": true
   },
   "outputs": [],
   "source": [
    "X = data.drop('response', axis=1)\n",
    "y = data['response']"
   ]
  },
  {
   "cell_type": "code",
   "execution_count": 25,
   "metadata": {
    "collapsed": false
   },
   "outputs": [
    {
     "data": {
      "text/html": [
       "<div>\n",
       "<style scoped>\n",
       "    .dataframe tbody tr th:only-of-type {\n",
       "        vertical-align: middle;\n",
       "    }\n",
       "\n",
       "    .dataframe tbody tr th {\n",
       "        vertical-align: top;\n",
       "    }\n",
       "\n",
       "    .dataframe thead th {\n",
       "        text-align: right;\n",
       "    }\n",
       "</style>\n",
       "<table border=\"1\" class=\"dataframe\">\n",
       "  <thead>\n",
       "    <tr style=\"text-align: right;\">\n",
       "      <th></th>\n",
       "      <th>age</th>\n",
       "      <th>total_pageviews</th>\n",
       "      <th>edu</th>\n",
       "      <th>edu_ages</th>\n",
       "      <th>user_level</th>\n",
       "      <th>industry</th>\n",
       "      <th>value_level</th>\n",
       "      <th>act_level</th>\n",
       "      <th>sex</th>\n",
       "      <th>blue_money</th>\n",
       "      <th>red_money</th>\n",
       "      <th>work_hours</th>\n",
       "      <th>region</th>\n",
       "      <th>response</th>\n",
       "    </tr>\n",
       "  </thead>\n",
       "  <tbody>\n",
       "    <tr>\n",
       "      <th>0</th>\n",
       "      <td>39.0</td>\n",
       "      <td>77516.0</td>\n",
       "      <td>1.0</td>\n",
       "      <td>13.0</td>\n",
       "      <td>1.0</td>\n",
       "      <td>1.0</td>\n",
       "      <td>1</td>\n",
       "      <td>1.0</td>\n",
       "      <td>1.0</td>\n",
       "      <td>2174</td>\n",
       "      <td>0.0</td>\n",
       "      <td>40</td>\n",
       "      <td>1.0</td>\n",
       "      <td>0</td>\n",
       "    </tr>\n",
       "    <tr>\n",
       "      <th>1</th>\n",
       "      <td>50.0</td>\n",
       "      <td>83311.0</td>\n",
       "      <td>1.0</td>\n",
       "      <td>13.0</td>\n",
       "      <td>2.0</td>\n",
       "      <td>2.0</td>\n",
       "      <td>2</td>\n",
       "      <td>1.0</td>\n",
       "      <td>1.0</td>\n",
       "      <td>0</td>\n",
       "      <td>0.0</td>\n",
       "      <td>13</td>\n",
       "      <td>1.0</td>\n",
       "      <td>0</td>\n",
       "    </tr>\n",
       "    <tr>\n",
       "      <th>2</th>\n",
       "      <td>38.0</td>\n",
       "      <td>215646.0</td>\n",
       "      <td>2.0</td>\n",
       "      <td>9.0</td>\n",
       "      <td>3.0</td>\n",
       "      <td>3.0</td>\n",
       "      <td>1</td>\n",
       "      <td>1.0</td>\n",
       "      <td>1.0</td>\n",
       "      <td>0</td>\n",
       "      <td>0.0</td>\n",
       "      <td>40</td>\n",
       "      <td>1.0</td>\n",
       "      <td>0</td>\n",
       "    </tr>\n",
       "    <tr>\n",
       "      <th>3</th>\n",
       "      <td>53.0</td>\n",
       "      <td>234721.0</td>\n",
       "      <td>2.0</td>\n",
       "      <td>7.0</td>\n",
       "      <td>2.0</td>\n",
       "      <td>3.0</td>\n",
       "      <td>2</td>\n",
       "      <td>2.0</td>\n",
       "      <td>1.0</td>\n",
       "      <td>0</td>\n",
       "      <td>0.0</td>\n",
       "      <td>40</td>\n",
       "      <td>1.0</td>\n",
       "      <td>0</td>\n",
       "    </tr>\n",
       "    <tr>\n",
       "      <th>4</th>\n",
       "      <td>28.0</td>\n",
       "      <td>338409.0</td>\n",
       "      <td>1.0</td>\n",
       "      <td>13.0</td>\n",
       "      <td>2.0</td>\n",
       "      <td>4.0</td>\n",
       "      <td>3</td>\n",
       "      <td>2.0</td>\n",
       "      <td>0.0</td>\n",
       "      <td>0</td>\n",
       "      <td>0.0</td>\n",
       "      <td>40</td>\n",
       "      <td>2.0</td>\n",
       "      <td>0</td>\n",
       "    </tr>\n",
       "  </tbody>\n",
       "</table>\n",
       "</div>"
      ],
      "text/plain": [
       "    age  total_pageviews  edu  edu_ages  user_level  industry  value_level  \\\n",
       "0  39.0          77516.0  1.0      13.0         1.0       1.0            1   \n",
       "1  50.0          83311.0  1.0      13.0         2.0       2.0            2   \n",
       "2  38.0         215646.0  2.0       9.0         3.0       3.0            1   \n",
       "3  53.0         234721.0  2.0       7.0         2.0       3.0            2   \n",
       "4  28.0         338409.0  1.0      13.0         2.0       4.0            3   \n",
       "\n",
       "   act_level  sex  blue_money  red_money  work_hours  region  response  \n",
       "0        1.0  1.0        2174        0.0          40     1.0         0  \n",
       "1        1.0  1.0           0        0.0          13     1.0         0  \n",
       "2        1.0  1.0           0        0.0          40     1.0         0  \n",
       "3        2.0  1.0           0        0.0          40     1.0         0  \n",
       "4        2.0  0.0           0        0.0          40     2.0         0  "
      ]
     },
     "execution_count": 25,
     "metadata": {},
     "output_type": "execute_result"
    }
   ],
   "source": [
    "data.head()"
   ]
  },
  {
   "cell_type": "code",
   "execution_count": 26,
   "metadata": {
    "collapsed": false
   },
   "outputs": [
    {
     "data": {
      "text/plain": [
       "(39999, 14)"
      ]
     },
     "execution_count": 26,
     "metadata": {},
     "output_type": "execute_result"
    }
   ],
   "source": [
    "data.shape"
   ]
  },
  {
   "cell_type": "code",
   "execution_count": 27,
   "metadata": {
    "collapsed": false
   },
   "outputs": [
    {
     "data": {
      "text/plain": [
       "age                float64\n",
       "total_pageviews    float64\n",
       "edu                float64\n",
       "edu_ages           float64\n",
       "user_level         float64\n",
       "industry           float64\n",
       "value_level          int64\n",
       "act_level          float64\n",
       "sex                float64\n",
       "blue_money           int64\n",
       "red_money          float64\n",
       "work_hours           int64\n",
       "region             float64\n",
       "response             int64\n",
       "dtype: object"
      ]
     },
     "execution_count": 27,
     "metadata": {},
     "output_type": "execute_result"
    }
   ],
   "source": [
    "data.dtypes"
   ]
  },
  {
   "cell_type": "code",
   "execution_count": 28,
   "metadata": {
    "collapsed": false
   },
   "outputs": [
    {
     "data": {
      "text/html": [
       "<div>\n",
       "<style scoped>\n",
       "    .dataframe tbody tr th:only-of-type {\n",
       "        vertical-align: middle;\n",
       "    }\n",
       "\n",
       "    .dataframe tbody tr th {\n",
       "        vertical-align: top;\n",
       "    }\n",
       "\n",
       "    .dataframe thead th {\n",
       "        text-align: right;\n",
       "    }\n",
       "</style>\n",
       "<table border=\"1\" class=\"dataframe\">\n",
       "  <thead>\n",
       "    <tr style=\"text-align: right;\">\n",
       "      <th></th>\n",
       "      <th>age</th>\n",
       "      <th>total_pageviews</th>\n",
       "      <th>edu</th>\n",
       "      <th>edu_ages</th>\n",
       "      <th>user_level</th>\n",
       "      <th>industry</th>\n",
       "      <th>value_level</th>\n",
       "      <th>act_level</th>\n",
       "      <th>sex</th>\n",
       "      <th>blue_money</th>\n",
       "      <th>red_money</th>\n",
       "      <th>work_hours</th>\n",
       "      <th>region</th>\n",
       "      <th>response</th>\n",
       "    </tr>\n",
       "  </thead>\n",
       "  <tbody>\n",
       "    <tr>\n",
       "      <th>count</th>\n",
       "      <td>39998.000000</td>\n",
       "      <td>3.999800e+04</td>\n",
       "      <td>39998.000000</td>\n",
       "      <td>39998.000000</td>\n",
       "      <td>39998.000000</td>\n",
       "      <td>39997.000000</td>\n",
       "      <td>39999.000000</td>\n",
       "      <td>39998.000000</td>\n",
       "      <td>39998.000000</td>\n",
       "      <td>39999.000000</td>\n",
       "      <td>39998.000000</td>\n",
       "      <td>39999.000000</td>\n",
       "      <td>39997.000000</td>\n",
       "      <td>39999.000000</td>\n",
       "    </tr>\n",
       "    <tr>\n",
       "      <th>mean</th>\n",
       "      <td>38.589654</td>\n",
       "      <td>1.895136e+05</td>\n",
       "      <td>2.511626</td>\n",
       "      <td>10.076754</td>\n",
       "      <td>2.087004</td>\n",
       "      <td>5.677126</td>\n",
       "      <td>2.546289</td>\n",
       "      <td>1.221036</td>\n",
       "      <td>0.668083</td>\n",
       "      <td>1089.142529</td>\n",
       "      <td>87.379394</td>\n",
       "      <td>40.442486</td>\n",
       "      <td>2.251519</td>\n",
       "      <td>0.239606</td>\n",
       "    </tr>\n",
       "    <tr>\n",
       "      <th>std</th>\n",
       "      <td>13.663490</td>\n",
       "      <td>1.053109e+05</td>\n",
       "      <td>1.638110</td>\n",
       "      <td>2.573384</td>\n",
       "      <td>1.260992</td>\n",
       "      <td>3.395948</td>\n",
       "      <td>1.443210</td>\n",
       "      <td>0.626618</td>\n",
       "      <td>0.470907</td>\n",
       "      <td>7491.275548</td>\n",
       "      <td>402.930350</td>\n",
       "      <td>12.376033</td>\n",
       "      <td>4.913482</td>\n",
       "      <td>0.426848</td>\n",
       "    </tr>\n",
       "    <tr>\n",
       "      <th>min</th>\n",
       "      <td>17.000000</td>\n",
       "      <td>1.228500e+04</td>\n",
       "      <td>1.000000</td>\n",
       "      <td>1.000000</td>\n",
       "      <td>1.000000</td>\n",
       "      <td>1.000000</td>\n",
       "      <td>1.000000</td>\n",
       "      <td>1.000000</td>\n",
       "      <td>0.000000</td>\n",
       "      <td>0.000000</td>\n",
       "      <td>0.000000</td>\n",
       "      <td>1.000000</td>\n",
       "      <td>1.000000</td>\n",
       "      <td>0.000000</td>\n",
       "    </tr>\n",
       "    <tr>\n",
       "      <th>25%</th>\n",
       "      <td>28.000000</td>\n",
       "      <td>1.175282e+05</td>\n",
       "      <td>2.000000</td>\n",
       "      <td>9.000000</td>\n",
       "      <td>1.000000</td>\n",
       "      <td>3.000000</td>\n",
       "      <td>1.000000</td>\n",
       "      <td>1.000000</td>\n",
       "      <td>0.000000</td>\n",
       "      <td>0.000000</td>\n",
       "      <td>0.000000</td>\n",
       "      <td>40.000000</td>\n",
       "      <td>1.000000</td>\n",
       "      <td>0.000000</td>\n",
       "    </tr>\n",
       "    <tr>\n",
       "      <th>50%</th>\n",
       "      <td>37.000000</td>\n",
       "      <td>1.783410e+05</td>\n",
       "      <td>2.000000</td>\n",
       "      <td>10.000000</td>\n",
       "      <td>2.000000</td>\n",
       "      <td>5.000000</td>\n",
       "      <td>2.000000</td>\n",
       "      <td>1.000000</td>\n",
       "      <td>1.000000</td>\n",
       "      <td>0.000000</td>\n",
       "      <td>0.000000</td>\n",
       "      <td>40.000000</td>\n",
       "      <td>1.000000</td>\n",
       "      <td>0.000000</td>\n",
       "    </tr>\n",
       "    <tr>\n",
       "      <th>75%</th>\n",
       "      <td>48.000000</td>\n",
       "      <td>2.372685e+05</td>\n",
       "      <td>2.000000</td>\n",
       "      <td>12.000000</td>\n",
       "      <td>2.000000</td>\n",
       "      <td>8.000000</td>\n",
       "      <td>4.000000</td>\n",
       "      <td>1.000000</td>\n",
       "      <td>1.000000</td>\n",
       "      <td>0.000000</td>\n",
       "      <td>0.000000</td>\n",
       "      <td>45.000000</td>\n",
       "      <td>1.000000</td>\n",
       "      <td>0.000000</td>\n",
       "    </tr>\n",
       "    <tr>\n",
       "      <th>max</th>\n",
       "      <td>90.000000</td>\n",
       "      <td>1.484705e+06</td>\n",
       "      <td>10.000000</td>\n",
       "      <td>16.000000</td>\n",
       "      <td>7.000000</td>\n",
       "      <td>15.000000</td>\n",
       "      <td>6.000000</td>\n",
       "      <td>5.000000</td>\n",
       "      <td>1.000000</td>\n",
       "      <td>99999.000000</td>\n",
       "      <td>4356.000000</td>\n",
       "      <td>99.000000</td>\n",
       "      <td>41.000000</td>\n",
       "      <td>1.000000</td>\n",
       "    </tr>\n",
       "  </tbody>\n",
       "</table>\n",
       "</div>"
      ],
      "text/plain": [
       "                age  total_pageviews           edu      edu_ages  \\\n",
       "count  39998.000000     3.999800e+04  39998.000000  39998.000000   \n",
       "mean      38.589654     1.895136e+05      2.511626     10.076754   \n",
       "std       13.663490     1.053109e+05      1.638110      2.573384   \n",
       "min       17.000000     1.228500e+04      1.000000      1.000000   \n",
       "25%       28.000000     1.175282e+05      2.000000      9.000000   \n",
       "50%       37.000000     1.783410e+05      2.000000     10.000000   \n",
       "75%       48.000000     2.372685e+05      2.000000     12.000000   \n",
       "max       90.000000     1.484705e+06     10.000000     16.000000   \n",
       "\n",
       "         user_level      industry   value_level     act_level           sex  \\\n",
       "count  39998.000000  39997.000000  39999.000000  39998.000000  39998.000000   \n",
       "mean       2.087004      5.677126      2.546289      1.221036      0.668083   \n",
       "std        1.260992      3.395948      1.443210      0.626618      0.470907   \n",
       "min        1.000000      1.000000      1.000000      1.000000      0.000000   \n",
       "25%        1.000000      3.000000      1.000000      1.000000      0.000000   \n",
       "50%        2.000000      5.000000      2.000000      1.000000      1.000000   \n",
       "75%        2.000000      8.000000      4.000000      1.000000      1.000000   \n",
       "max        7.000000     15.000000      6.000000      5.000000      1.000000   \n",
       "\n",
       "         blue_money     red_money    work_hours        region      response  \n",
       "count  39999.000000  39998.000000  39999.000000  39997.000000  39999.000000  \n",
       "mean    1089.142529     87.379394     40.442486      2.251519      0.239606  \n",
       "std     7491.275548    402.930350     12.376033      4.913482      0.426848  \n",
       "min        0.000000      0.000000      1.000000      1.000000      0.000000  \n",
       "25%        0.000000      0.000000     40.000000      1.000000      0.000000  \n",
       "50%        0.000000      0.000000     40.000000      1.000000      0.000000  \n",
       "75%        0.000000      0.000000     45.000000      1.000000      0.000000  \n",
       "max    99999.000000   4356.000000     99.000000     41.000000      1.000000  "
      ]
     },
     "execution_count": 28,
     "metadata": {},
     "output_type": "execute_result"
    }
   ],
   "source": [
    "data.describe()"
   ]
  },
  {
   "cell_type": "code",
   "execution_count": 29,
   "metadata": {
    "collapsed": false
   },
   "outputs": [
    {
     "data": {
      "text/plain": [
       "age                1\n",
       "total_pageviews    1\n",
       "edu                1\n",
       "edu_ages           1\n",
       "user_level         1\n",
       "industry           2\n",
       "value_level        0\n",
       "act_level          1\n",
       "sex                1\n",
       "blue_money         0\n",
       "red_money          1\n",
       "work_hours         0\n",
       "region             2\n",
       "response           0\n",
       "dtype: int64"
      ]
     },
     "execution_count": 29,
     "metadata": {},
     "output_type": "execute_result"
    }
   ],
   "source": [
    "data.isnull().sum()"
   ]
  },
  {
   "cell_type": "code",
   "execution_count": 30,
   "metadata": {
    "collapsed": false
   },
   "outputs": [
    {
     "data": {
      "text/plain": [
       "0    30415\n",
       "1     9584\n",
       "Name: response, dtype: int64"
      ]
     },
     "execution_count": 30,
     "metadata": {},
     "output_type": "execute_result"
    }
   ],
   "source": [
    "data.response.value_counts()"
   ]
  },
  {
   "cell_type": "code",
   "execution_count": 31,
   "metadata": {
    "collapsed": false
   },
   "outputs": [
    {
     "data": {
      "text/plain": [
       "age                float64\n",
       "total_pageviews    float64\n",
       "edu                float64\n",
       "edu_ages           float64\n",
       "user_level         float64\n",
       "industry           float64\n",
       "value_level          int64\n",
       "act_level          float64\n",
       "sex                float64\n",
       "blue_money           int64\n",
       "red_money          float64\n",
       "work_hours           int64\n",
       "region             float64\n",
       "response             int64\n",
       "dtype: object"
      ]
     },
     "execution_count": 31,
     "metadata": {},
     "output_type": "execute_result"
    }
   ],
   "source": [
    "data.dtypes"
   ]
  },
  {
   "cell_type": "code",
   "execution_count": 35,
   "metadata": {
    "collapsed": true
   },
   "outputs": [],
   "source": [
    "# fill null values\n",
    "na_rules = {'age': data['age'].mean(),\n",
    "            'total_pageviews': data['total_pageviews'].mean(),\n",
    "            'edu': data['edu'].median(),\n",
    "            'edu_ages': data['edu_ages'].median(),\n",
    "            'user_level': data['user_level'].median(),\n",
    "            'industry': data['user_level'].median(),\n",
    "            'act_level': data['act_level'].median(),\n",
    "            'sex': data['sex'].median(),\n",
    "            'red_money': data['red_money'].mean(),\n",
    "            'region': data['region'].median()\n",
    "            } \n",
    "X = X.fillna(na_rules) "
   ]
  },
  {
   "cell_type": "code",
   "execution_count": 36,
   "metadata": {
    "collapsed": false
   },
   "outputs": [],
   "source": [
    "# datatype transformation\n",
    "var_list = {'edu': 'int32',\n",
    "            'user_level': 'int32',\n",
    "            'industry': 'int32',\n",
    "            'value_level': 'int32',\n",
    "            'act_level': 'int32',\n",
    "            'sex': 'int32',\n",
    "            'region': 'int32'\n",
    "            }  \n",
    "for var, type in var_list.items():  \n",
    "    X[var] = X[var].astype(type)"
   ]
  },
  {
   "cell_type": "code",
   "execution_count": 37,
   "metadata": {
    "collapsed": false
   },
   "outputs": [
    {
     "data": {
      "text/plain": [
       "age                0\n",
       "total_pageviews    0\n",
       "edu                0\n",
       "edu_ages           0\n",
       "user_level         0\n",
       "industry           0\n",
       "value_level        0\n",
       "act_level          0\n",
       "sex                0\n",
       "blue_money         0\n",
       "red_money          0\n",
       "work_hours         0\n",
       "region             0\n",
       "dtype: int64"
      ]
     },
     "execution_count": 37,
     "metadata": {},
     "output_type": "execute_result"
    }
   ],
   "source": [
    "X.isnull().sum()"
   ]
  },
  {
   "cell_type": "code",
   "execution_count": 17,
   "metadata": {
    "collapsed": false
   },
   "outputs": [],
   "source": [
    "def symbol_con(df, enc_object=None, train=True):\n",
    "    # one hot encoding\n",
    "    convert_cols = ['edu', 'user_level', 'industry', 'value_level', 'act_level', 'sex', 'region']  \n",
    "    df_con = df[convert_cols] \n",
    "    df_org = df[['age', 'total_pageviews', 'edu_ages', 'blue_money', 'red_money', 'work_hours']].values\n",
    "    if train == True:  \n",
    "        enc = OneHotEncoder()  \n",
    "        enc.fit(df_con)  \n",
    "        df_con_new = enc.transform(df_con).toarray()  \n",
    "        new_matrix = np.hstack((df_con_new, df_org))  \n",
    "        return new_matrix, enc\n",
    "    else:\n",
    "        df_con_new = enc_object.transform(df_con).toarray()  \n",
    "        new_matrix = np.hstack((df_con_new, df_org))\n",
    "        return new_matrix\n"
   ]
  },
  {
   "cell_type": "code",
   "execution_count": 38,
   "metadata": {
    "collapsed": true
   },
   "outputs": [],
   "source": [
    "X_new, enc = symbol_con(X, enc_object=None, train=True)"
   ]
  },
  {
   "cell_type": "code",
   "execution_count": 41,
   "metadata": {
    "collapsed": false
   },
   "outputs": [
    {
     "data": {
      "text/plain": [
       "array([1.0000e+00, 0.0000e+00, 0.0000e+00, 0.0000e+00, 0.0000e+00,\n",
       "       0.0000e+00, 0.0000e+00, 0.0000e+00, 0.0000e+00, 0.0000e+00,\n",
       "       1.0000e+00, 0.0000e+00, 0.0000e+00, 0.0000e+00, 0.0000e+00,\n",
       "       0.0000e+00, 0.0000e+00, 1.0000e+00, 0.0000e+00, 0.0000e+00,\n",
       "       0.0000e+00, 0.0000e+00, 0.0000e+00, 0.0000e+00, 0.0000e+00,\n",
       "       0.0000e+00, 0.0000e+00, 0.0000e+00, 0.0000e+00, 0.0000e+00,\n",
       "       0.0000e+00, 0.0000e+00, 1.0000e+00, 0.0000e+00, 0.0000e+00,\n",
       "       0.0000e+00, 0.0000e+00, 0.0000e+00, 1.0000e+00, 0.0000e+00,\n",
       "       0.0000e+00, 0.0000e+00, 0.0000e+00, 0.0000e+00, 1.0000e+00,\n",
       "       1.0000e+00, 0.0000e+00, 0.0000e+00, 0.0000e+00, 0.0000e+00,\n",
       "       0.0000e+00, 0.0000e+00, 0.0000e+00, 0.0000e+00, 0.0000e+00,\n",
       "       0.0000e+00, 0.0000e+00, 0.0000e+00, 0.0000e+00, 0.0000e+00,\n",
       "       0.0000e+00, 0.0000e+00, 0.0000e+00, 0.0000e+00, 0.0000e+00,\n",
       "       0.0000e+00, 0.0000e+00, 0.0000e+00, 0.0000e+00, 0.0000e+00,\n",
       "       0.0000e+00, 0.0000e+00, 0.0000e+00, 0.0000e+00, 0.0000e+00,\n",
       "       0.0000e+00, 0.0000e+00, 0.0000e+00, 0.0000e+00, 0.0000e+00,\n",
       "       0.0000e+00, 0.0000e+00, 0.0000e+00, 0.0000e+00, 0.0000e+00,\n",
       "       0.0000e+00, 3.9000e+01, 7.7516e+04, 1.3000e+01, 2.1740e+03,\n",
       "       0.0000e+00, 4.0000e+01])"
      ]
     },
     "execution_count": 41,
     "metadata": {},
     "output_type": "execute_result"
    }
   ],
   "source": [
    "X_new[0]"
   ]
  },
  {
   "cell_type": "code",
   "execution_count": 21,
   "metadata": {
    "collapsed": false
   },
   "outputs": [],
   "source": [
    "def get_best_model(X, y):\n",
    "    '''\n",
    "    use crossvalidation select parameter for the model\n",
    "    '''\n",
    "    transform = SelectPercentile(f_classif, percentile=50)  \n",
    "    model_adaboost = AdaBoostClassifier()  \n",
    "    model_pipe = Pipeline(steps=[('ANOVA', transform), ('model_adaboost', model_adaboost)])  \n",
    "    cv = StratifiedKFold(5)  \n",
    "    n_estimators = [20, 50, 80, 100]  \n",
    "    score_methods = ['accuracy', 'f1', 'precision', 'recall', 'roc_auc']  \n",
    "    mean_list = list()  \n",
    "    std_list = list() \n",
    "    for parameter in n_estimators:  \n",
    "        t1 = time.time() \n",
    "        score_list = list()  \n",
    "        print ('set parameters: %s' % parameter) \n",
    "        for score_method in score_methods:  \n",
    "            model_pipe.set_params(model_adaboost__n_estimators=parameter)  \n",
    "            score_tmp = cross_val_score(model_pipe, X, y, scoring=score_method, cv=cv)  \n",
    "            score_list.append(score_tmp)  \n",
    "        score_matrix = pd.DataFrame(np.array(score_list), index=score_methods)  \n",
    "        score_mean = score_matrix.mean(axis=1).rename('mean')  \n",
    "        score_std = score_matrix.std(axis=1).rename('std')  \n",
    "        score_pd = pd.concat([score_matrix, score_mean, score_std], axis=1) \n",
    "        mean_list.append(score_mean) \n",
    "        std_list.append(score_std)  \n",
    "        print (score_pd.round(2))  \n",
    "        print ('-' * 60)\n",
    "        t2 = time.time()  \n",
    "        tt = t2 - t1  \n",
    "        print ('time: %s' % str(tt))  \n",
    "    mean_matrix = np.array(mean_list).T  \n",
    "    std_matrix = np.array(std_list).T  \n",
    "    mean_pd = pd.DataFrame(mean_matrix, index=score_methods, columns=n_estimators)  \n",
    "    std_pd = pd.DataFrame(std_matrix, index=score_methods, columns=n_estimators) \n",
    "    print ('Mean values for each parameter:')\n",
    "    print (mean_pd)  \n",
    "    print ('Std values for each parameter:')\n",
    "    print (std_pd)  \n",
    "    print ('-' * 60)\n",
    "    return transform"
   ]
  },
  {
   "cell_type": "code",
   "execution_count": 42,
   "metadata": {
    "collapsed": false
   },
   "outputs": [
    {
     "name": "stdout",
     "output_type": "stream",
     "text": [
      "set parameters: 20\n"
     ]
    },
    {
     "name": "stderr",
     "output_type": "stream",
     "text": [
      "/usr/local/lib/python3.5/dist-packages/sklearn/feature_selection/univariate_selection.py:113: UserWarning: Features [85] are constant.\n",
      "  UserWarning)\n",
      "/usr/local/lib/python3.5/dist-packages/sklearn/feature_selection/univariate_selection.py:114: RuntimeWarning: invalid value encountered in true_divide\n",
      "  f = msb / msw\n",
      "/usr/local/lib/python3.5/dist-packages/sklearn/feature_selection/univariate_selection.py:113: UserWarning: Features [85] are constant.\n",
      "  UserWarning)\n",
      "/usr/local/lib/python3.5/dist-packages/sklearn/feature_selection/univariate_selection.py:114: RuntimeWarning: invalid value encountered in true_divide\n",
      "  f = msb / msw\n",
      "/usr/local/lib/python3.5/dist-packages/sklearn/feature_selection/univariate_selection.py:113: UserWarning: Features [85] are constant.\n",
      "  UserWarning)\n",
      "/usr/local/lib/python3.5/dist-packages/sklearn/feature_selection/univariate_selection.py:114: RuntimeWarning: invalid value encountered in true_divide\n",
      "  f = msb / msw\n",
      "/usr/local/lib/python3.5/dist-packages/sklearn/feature_selection/univariate_selection.py:113: UserWarning: Features [85] are constant.\n",
      "  UserWarning)\n",
      "/usr/local/lib/python3.5/dist-packages/sklearn/feature_selection/univariate_selection.py:114: RuntimeWarning: invalid value encountered in true_divide\n",
      "  f = msb / msw\n",
      "/usr/local/lib/python3.5/dist-packages/sklearn/feature_selection/univariate_selection.py:113: UserWarning: Features [85] are constant.\n",
      "  UserWarning)\n",
      "/usr/local/lib/python3.5/dist-packages/sklearn/feature_selection/univariate_selection.py:114: RuntimeWarning: invalid value encountered in true_divide\n",
      "  f = msb / msw\n"
     ]
    },
    {
     "name": "stdout",
     "output_type": "stream",
     "text": [
      "              0     1     2     3     4  mean   std\n",
      "accuracy   0.85  0.85  0.86  0.86  0.86  0.85  0.01\n",
      "f1         0.66  0.64  0.66  0.66  0.66  0.66  0.01\n",
      "precision  0.72  0.74  0.76  0.78  0.77  0.75  0.02\n",
      "recall     0.60  0.57  0.59  0.58  0.57  0.58  0.01\n",
      "roc_auc    0.91  0.90  0.91  0.91  0.91  0.91  0.00\n",
      "------------------------------------------------------------\n",
      "time: 10.778498411178589\n",
      "set parameters: 50\n"
     ]
    },
    {
     "name": "stderr",
     "output_type": "stream",
     "text": [
      "/usr/local/lib/python3.5/dist-packages/sklearn/feature_selection/univariate_selection.py:113: UserWarning: Features [85] are constant.\n",
      "  UserWarning)\n",
      "/usr/local/lib/python3.5/dist-packages/sklearn/feature_selection/univariate_selection.py:114: RuntimeWarning: invalid value encountered in true_divide\n",
      "  f = msb / msw\n",
      "/usr/local/lib/python3.5/dist-packages/sklearn/feature_selection/univariate_selection.py:113: UserWarning: Features [85] are constant.\n",
      "  UserWarning)\n",
      "/usr/local/lib/python3.5/dist-packages/sklearn/feature_selection/univariate_selection.py:114: RuntimeWarning: invalid value encountered in true_divide\n",
      "  f = msb / msw\n",
      "/usr/local/lib/python3.5/dist-packages/sklearn/feature_selection/univariate_selection.py:113: UserWarning: Features [85] are constant.\n",
      "  UserWarning)\n",
      "/usr/local/lib/python3.5/dist-packages/sklearn/feature_selection/univariate_selection.py:114: RuntimeWarning: invalid value encountered in true_divide\n",
      "  f = msb / msw\n",
      "/usr/local/lib/python3.5/dist-packages/sklearn/feature_selection/univariate_selection.py:113: UserWarning: Features [85] are constant.\n",
      "  UserWarning)\n",
      "/usr/local/lib/python3.5/dist-packages/sklearn/feature_selection/univariate_selection.py:114: RuntimeWarning: invalid value encountered in true_divide\n",
      "  f = msb / msw\n",
      "/usr/local/lib/python3.5/dist-packages/sklearn/feature_selection/univariate_selection.py:113: UserWarning: Features [85] are constant.\n",
      "  UserWarning)\n",
      "/usr/local/lib/python3.5/dist-packages/sklearn/feature_selection/univariate_selection.py:114: RuntimeWarning: invalid value encountered in true_divide\n",
      "  f = msb / msw\n"
     ]
    },
    {
     "name": "stdout",
     "output_type": "stream",
     "text": [
      "              0     1     2     3     4  mean   std\n",
      "accuracy   0.86  0.86  0.86  0.87  0.86  0.86  0.00\n",
      "f1         0.66  0.66  0.67  0.69  0.68  0.67  0.01\n",
      "precision  0.75  0.76  0.77  0.78  0.77  0.76  0.01\n",
      "recall     0.59  0.58  0.59  0.62  0.61  0.60  0.02\n",
      "roc_auc    0.91  0.91  0.91  0.92  0.92  0.91  0.00\n",
      "------------------------------------------------------------\n",
      "time: 23.52108097076416\n",
      "set parameters: 80\n"
     ]
    },
    {
     "name": "stderr",
     "output_type": "stream",
     "text": [
      "/usr/local/lib/python3.5/dist-packages/sklearn/feature_selection/univariate_selection.py:113: UserWarning: Features [85] are constant.\n",
      "  UserWarning)\n",
      "/usr/local/lib/python3.5/dist-packages/sklearn/feature_selection/univariate_selection.py:114: RuntimeWarning: invalid value encountered in true_divide\n",
      "  f = msb / msw\n",
      "/usr/local/lib/python3.5/dist-packages/sklearn/feature_selection/univariate_selection.py:113: UserWarning: Features [85] are constant.\n",
      "  UserWarning)\n",
      "/usr/local/lib/python3.5/dist-packages/sklearn/feature_selection/univariate_selection.py:114: RuntimeWarning: invalid value encountered in true_divide\n",
      "  f = msb / msw\n",
      "/usr/local/lib/python3.5/dist-packages/sklearn/feature_selection/univariate_selection.py:113: UserWarning: Features [85] are constant.\n",
      "  UserWarning)\n",
      "/usr/local/lib/python3.5/dist-packages/sklearn/feature_selection/univariate_selection.py:114: RuntimeWarning: invalid value encountered in true_divide\n",
      "  f = msb / msw\n",
      "/usr/local/lib/python3.5/dist-packages/sklearn/feature_selection/univariate_selection.py:113: UserWarning: Features [85] are constant.\n",
      "  UserWarning)\n",
      "/usr/local/lib/python3.5/dist-packages/sklearn/feature_selection/univariate_selection.py:114: RuntimeWarning: invalid value encountered in true_divide\n",
      "  f = msb / msw\n",
      "/usr/local/lib/python3.5/dist-packages/sklearn/feature_selection/univariate_selection.py:113: UserWarning: Features [85] are constant.\n",
      "  UserWarning)\n",
      "/usr/local/lib/python3.5/dist-packages/sklearn/feature_selection/univariate_selection.py:114: RuntimeWarning: invalid value encountered in true_divide\n",
      "  f = msb / msw\n"
     ]
    },
    {
     "name": "stdout",
     "output_type": "stream",
     "text": [
      "              0     1     2     3     4  mean   std\n",
      "accuracy   0.86  0.86  0.86  0.87  0.86  0.86  0.00\n",
      "f1         0.67  0.67  0.68  0.70  0.68  0.68  0.01\n",
      "precision  0.76  0.77  0.77  0.79  0.76  0.77  0.01\n",
      "recall     0.60  0.59  0.61  0.62  0.62  0.61  0.01\n",
      "roc_auc    0.92  0.92  0.92  0.92  0.92  0.92  0.00\n",
      "------------------------------------------------------------\n",
      "time: 40.48507523536682\n",
      "set parameters: 100\n"
     ]
    },
    {
     "name": "stderr",
     "output_type": "stream",
     "text": [
      "/usr/local/lib/python3.5/dist-packages/sklearn/feature_selection/univariate_selection.py:113: UserWarning: Features [85] are constant.\n",
      "  UserWarning)\n",
      "/usr/local/lib/python3.5/dist-packages/sklearn/feature_selection/univariate_selection.py:114: RuntimeWarning: invalid value encountered in true_divide\n",
      "  f = msb / msw\n",
      "/usr/local/lib/python3.5/dist-packages/sklearn/feature_selection/univariate_selection.py:113: UserWarning: Features [85] are constant.\n",
      "  UserWarning)\n",
      "/usr/local/lib/python3.5/dist-packages/sklearn/feature_selection/univariate_selection.py:114: RuntimeWarning: invalid value encountered in true_divide\n",
      "  f = msb / msw\n",
      "/usr/local/lib/python3.5/dist-packages/sklearn/feature_selection/univariate_selection.py:113: UserWarning: Features [85] are constant.\n",
      "  UserWarning)\n",
      "/usr/local/lib/python3.5/dist-packages/sklearn/feature_selection/univariate_selection.py:114: RuntimeWarning: invalid value encountered in true_divide\n",
      "  f = msb / msw\n",
      "/usr/local/lib/python3.5/dist-packages/sklearn/feature_selection/univariate_selection.py:113: UserWarning: Features [85] are constant.\n",
      "  UserWarning)\n",
      "/usr/local/lib/python3.5/dist-packages/sklearn/feature_selection/univariate_selection.py:114: RuntimeWarning: invalid value encountered in true_divide\n",
      "  f = msb / msw\n",
      "/usr/local/lib/python3.5/dist-packages/sklearn/feature_selection/univariate_selection.py:113: UserWarning: Features [85] are constant.\n",
      "  UserWarning)\n",
      "/usr/local/lib/python3.5/dist-packages/sklearn/feature_selection/univariate_selection.py:114: RuntimeWarning: invalid value encountered in true_divide\n",
      "  f = msb / msw\n"
     ]
    },
    {
     "name": "stdout",
     "output_type": "stream",
     "text": [
      "              0     1     2     3     4  mean   std\n",
      "accuracy   0.86  0.86  0.87  0.87  0.86  0.86  0.00\n",
      "f1         0.67  0.67  0.69  0.70  0.69  0.68  0.01\n",
      "precision  0.76  0.77  0.78  0.79  0.76  0.77  0.01\n",
      "recall     0.60  0.60  0.61  0.63  0.62  0.61  0.01\n",
      "roc_auc    0.92  0.92  0.92  0.92  0.92  0.92  0.00\n",
      "------------------------------------------------------------\n",
      "time: 42.5383358001709\n",
      "Mean values for each parameter:\n",
      "                20        50        80        100\n",
      "accuracy   0.853946  0.859922  0.862647  0.863672\n",
      "f1         0.656329  0.672173  0.679723  0.682772\n",
      "precision  0.753126  0.764994  0.770094  0.771560\n",
      "recall     0.582011  0.599542  0.608411  0.612376\n",
      "roc_auc    0.908324  0.914994  0.918613  0.919941\n",
      "Std values for each parameter:\n",
      "                20        50        80        100\n",
      "accuracy   0.005260  0.004636  0.004463  0.004834\n",
      "f1         0.009512  0.012836  0.011527  0.011929\n",
      "precision  0.023295  0.010208  0.011250  0.012753\n",
      "recall     0.013767  0.016128  0.013591  0.013184\n",
      "roc_auc    0.003201  0.002865  0.002629  0.002652\n",
      "------------------------------------------------------------\n"
     ]
    }
   ],
   "source": [
    "model = get_best_model(X_new, y)\n"
   ]
  },
  {
   "cell_type": "code",
   "execution_count": 43,
   "metadata": {
    "collapsed": false
   },
   "outputs": [
    {
     "data": {
      "text/plain": [
       "SelectPercentile(percentile=50,\n",
       "         score_func=<function f_classif at 0x7f332688b158>)"
      ]
     },
     "execution_count": 43,
     "metadata": {},
     "output_type": "execute_result"
    }
   ],
   "source": [
    "model"
   ]
  },
  {
   "cell_type": "code",
   "execution_count": 46,
   "metadata": {
    "collapsed": false
   },
   "outputs": [
    {
     "data": {
      "text/plain": [
       "AdaBoostClassifier(algorithm='SAMME.R', base_estimator=None,\n",
       "          learning_rate=1.0, n_estimators=100, random_state=None)"
      ]
     },
     "execution_count": 46,
     "metadata": {},
     "output_type": "execute_result"
    }
   ],
   "source": [
    "model.fit(X_new, y) \n",
    "X_final = model.transform(X_new) \n",
    "final_model = AdaBoostClassifier(n_estimators=100)\n",
    "final_model.fit(X_final, y)"
   ]
  },
  {
   "cell_type": "code",
   "execution_count": 47,
   "metadata": {
    "collapsed": false
   },
   "outputs": [
    {
     "data": {
      "text/plain": [
       "(39999, 46)"
      ]
     },
     "execution_count": 47,
     "metadata": {},
     "output_type": "execute_result"
    }
   ],
   "source": []
  },
  {
   "cell_type": "code",
   "execution_count": null,
   "metadata": {
    "collapsed": true
   },
   "outputs": [],
   "source": []
  }
 ],
 "metadata": {
  "kernelspec": {
   "display_name": "Python 3",
   "language": "python",
   "name": "python3"
  },
  "language_info": {
   "codemirror_mode": {
    "name": "ipython",
    "version": 3
   },
   "file_extension": ".py",
   "mimetype": "text/x-python",
   "name": "python",
   "nbconvert_exporter": "python",
   "pygments_lexer": "ipython3",
   "version": "3.5.2"
  }
 },
 "nbformat": 4,
 "nbformat_minor": 2
}
