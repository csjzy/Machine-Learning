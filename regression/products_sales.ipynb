{
 "cells": [
  {
   "cell_type": "code",
   "execution_count": 1,
   "metadata": {
    "collapsed": true
   },
   "outputs": [],
   "source": [
    "# Order volume forecast\n",
    "import numpy as np  \n",
    "import pandas as pd  \n",
    "from sklearn.ensemble import GradientBoostingRegressor  \n",
    "from sklearn.model_selection import GridSearchCV  \n",
    "import matplotlib.pyplot as plt \n",
    "%matplotlib inline"
   ]
  },
  {
   "cell_type": "code",
   "execution_count": 2,
   "metadata": {
    "collapsed": true
   },
   "outputs": [],
   "source": [
    "data = pd.read_table('../../data/products_sales.txt', delimiter=',')"
   ]
  },
  {
   "cell_type": "code",
   "execution_count": 3,
   "metadata": {
    "collapsed": false
   },
   "outputs": [
    {
     "data": {
      "text/html": [
       "<div>\n",
       "<style scoped>\n",
       "    .dataframe tbody tr th:only-of-type {\n",
       "        vertical-align: middle;\n",
       "    }\n",
       "\n",
       "    .dataframe tbody tr th {\n",
       "        vertical-align: top;\n",
       "    }\n",
       "\n",
       "    .dataframe thead th {\n",
       "        text-align: right;\n",
       "    }\n",
       "</style>\n",
       "<table border=\"1\" class=\"dataframe\">\n",
       "  <thead>\n",
       "    <tr style=\"text-align: right;\">\n",
       "      <th></th>\n",
       "      <th>limit_infor</th>\n",
       "      <th>campaign_type</th>\n",
       "      <th>campaign_level</th>\n",
       "      <th>product_level</th>\n",
       "      <th>resource_amount</th>\n",
       "      <th>email_rate</th>\n",
       "      <th>price</th>\n",
       "      <th>discount_rate</th>\n",
       "      <th>hour_resouces</th>\n",
       "      <th>campaign_fee</th>\n",
       "      <th>orders</th>\n",
       "    </tr>\n",
       "  </thead>\n",
       "  <tbody>\n",
       "    <tr>\n",
       "      <th>0</th>\n",
       "      <td>0</td>\n",
       "      <td>6</td>\n",
       "      <td>0</td>\n",
       "      <td>1</td>\n",
       "      <td>1</td>\n",
       "      <td>0.08</td>\n",
       "      <td>140.0</td>\n",
       "      <td>0.83</td>\n",
       "      <td>93</td>\n",
       "      <td>888</td>\n",
       "      <td>1981</td>\n",
       "    </tr>\n",
       "    <tr>\n",
       "      <th>1</th>\n",
       "      <td>0</td>\n",
       "      <td>0</td>\n",
       "      <td>0</td>\n",
       "      <td>1</td>\n",
       "      <td>1</td>\n",
       "      <td>0.10</td>\n",
       "      <td>144.0</td>\n",
       "      <td>0.75</td>\n",
       "      <td>150</td>\n",
       "      <td>836</td>\n",
       "      <td>986</td>\n",
       "    </tr>\n",
       "    <tr>\n",
       "      <th>2</th>\n",
       "      <td>0</td>\n",
       "      <td>1</td>\n",
       "      <td>1</td>\n",
       "      <td>1</td>\n",
       "      <td>1</td>\n",
       "      <td>0.12</td>\n",
       "      <td>149.0</td>\n",
       "      <td>0.84</td>\n",
       "      <td>86</td>\n",
       "      <td>1330</td>\n",
       "      <td>1416</td>\n",
       "    </tr>\n",
       "    <tr>\n",
       "      <th>3</th>\n",
       "      <td>0</td>\n",
       "      <td>3</td>\n",
       "      <td>1</td>\n",
       "      <td>2</td>\n",
       "      <td>1</td>\n",
       "      <td>0.12</td>\n",
       "      <td>141.0</td>\n",
       "      <td>0.82</td>\n",
       "      <td>95</td>\n",
       "      <td>2273</td>\n",
       "      <td>2368</td>\n",
       "    </tr>\n",
       "    <tr>\n",
       "      <th>4</th>\n",
       "      <td>0</td>\n",
       "      <td>0</td>\n",
       "      <td>0</td>\n",
       "      <td>1</td>\n",
       "      <td>1</td>\n",
       "      <td>0.10</td>\n",
       "      <td>146.0</td>\n",
       "      <td>0.59</td>\n",
       "      <td>73</td>\n",
       "      <td>1456</td>\n",
       "      <td>1529</td>\n",
       "    </tr>\n",
       "  </tbody>\n",
       "</table>\n",
       "</div>"
      ],
      "text/plain": [
       "   limit_infor  campaign_type  campaign_level  product_level  resource_amount  \\\n",
       "0            0              6               0              1                1   \n",
       "1            0              0               0              1                1   \n",
       "2            0              1               1              1                1   \n",
       "3            0              3               1              2                1   \n",
       "4            0              0               0              1                1   \n",
       "\n",
       "   email_rate  price  discount_rate  hour_resouces  campaign_fee  orders  \n",
       "0        0.08  140.0           0.83             93           888    1981  \n",
       "1        0.10  144.0           0.75            150           836     986  \n",
       "2        0.12  149.0           0.84             86          1330    1416  \n",
       "3        0.12  141.0           0.82             95          2273    2368  \n",
       "4        0.10  146.0           0.59             73          1456    1529  "
      ]
     },
     "execution_count": 3,
     "metadata": {},
     "output_type": "execute_result"
    }
   ],
   "source": [
    "data.head()"
   ]
  },
  {
   "cell_type": "code",
   "execution_count": 4,
   "metadata": {
    "collapsed": false
   },
   "outputs": [
    {
     "data": {
      "text/plain": [
       "limit_infor          int64\n",
       "campaign_type        int64\n",
       "campaign_level       int64\n",
       "product_level        int64\n",
       "resource_amount      int64\n",
       "email_rate         float64\n",
       "price              float64\n",
       "discount_rate      float64\n",
       "hour_resouces        int64\n",
       "campaign_fee         int64\n",
       "orders               int64\n",
       "dtype: object"
      ]
     },
     "execution_count": 4,
     "metadata": {},
     "output_type": "execute_result"
    }
   ],
   "source": [
    "data.dtypes"
   ]
  },
  {
   "cell_type": "code",
   "execution_count": 5,
   "metadata": {
    "collapsed": false
   },
   "outputs": [
    {
     "data": {
      "text/plain": [
       "limit_infor        0\n",
       "campaign_type      0\n",
       "campaign_level     0\n",
       "product_level      0\n",
       "resource_amount    0\n",
       "email_rate         0\n",
       "price              2\n",
       "discount_rate      0\n",
       "hour_resouces      0\n",
       "campaign_fee       0\n",
       "orders             0\n",
       "dtype: int64"
      ]
     },
     "execution_count": 5,
     "metadata": {},
     "output_type": "execute_result"
    }
   ],
   "source": [
    "data.isnull().sum()"
   ]
  },
  {
   "cell_type": "code",
   "execution_count": 6,
   "metadata": {
    "collapsed": false
   },
   "outputs": [
    {
     "data": {
      "text/html": [
       "<div>\n",
       "<style scoped>\n",
       "    .dataframe tbody tr th:only-of-type {\n",
       "        vertical-align: middle;\n",
       "    }\n",
       "\n",
       "    .dataframe tbody tr th {\n",
       "        vertical-align: top;\n",
       "    }\n",
       "\n",
       "    .dataframe thead th {\n",
       "        text-align: right;\n",
       "    }\n",
       "</style>\n",
       "<table border=\"1\" class=\"dataframe\">\n",
       "  <thead>\n",
       "    <tr style=\"text-align: right;\">\n",
       "      <th></th>\n",
       "      <th>limit_infor</th>\n",
       "      <th>campaign_type</th>\n",
       "      <th>campaign_level</th>\n",
       "      <th>product_level</th>\n",
       "      <th>resource_amount</th>\n",
       "      <th>email_rate</th>\n",
       "      <th>price</th>\n",
       "      <th>discount_rate</th>\n",
       "      <th>hour_resouces</th>\n",
       "      <th>campaign_fee</th>\n",
       "      <th>orders</th>\n",
       "    </tr>\n",
       "  </thead>\n",
       "  <tbody>\n",
       "    <tr>\n",
       "      <th>count</th>\n",
       "      <td>731.000000</td>\n",
       "      <td>731.000000</td>\n",
       "      <td>731.000000</td>\n",
       "      <td>731.000000</td>\n",
       "      <td>731.000000</td>\n",
       "      <td>731.000000</td>\n",
       "      <td>729.000000</td>\n",
       "      <td>731.000000</td>\n",
       "      <td>731.000000</td>\n",
       "      <td>731.000000</td>\n",
       "      <td>731.000000</td>\n",
       "    </tr>\n",
       "    <tr>\n",
       "      <th>mean</th>\n",
       "      <td>0.042408</td>\n",
       "      <td>2.997264</td>\n",
       "      <td>0.683995</td>\n",
       "      <td>1.395349</td>\n",
       "      <td>4.952120</td>\n",
       "      <td>0.474337</td>\n",
       "      <td>162.812071</td>\n",
       "      <td>0.809617</td>\n",
       "      <td>848.176471</td>\n",
       "      <td>3696.391245</td>\n",
       "      <td>4531.079343</td>\n",
       "    </tr>\n",
       "    <tr>\n",
       "      <th>std</th>\n",
       "      <td>0.404911</td>\n",
       "      <td>2.004787</td>\n",
       "      <td>0.465233</td>\n",
       "      <td>0.544894</td>\n",
       "      <td>1.838449</td>\n",
       "      <td>0.162913</td>\n",
       "      <td>14.267136</td>\n",
       "      <td>0.077679</td>\n",
       "      <td>686.622488</td>\n",
       "      <td>1908.643139</td>\n",
       "      <td>1932.532346</td>\n",
       "    </tr>\n",
       "    <tr>\n",
       "      <th>min</th>\n",
       "      <td>0.000000</td>\n",
       "      <td>0.000000</td>\n",
       "      <td>0.000000</td>\n",
       "      <td>1.000000</td>\n",
       "      <td>1.000000</td>\n",
       "      <td>0.080000</td>\n",
       "      <td>100.000000</td>\n",
       "      <td>0.490000</td>\n",
       "      <td>2.000000</td>\n",
       "      <td>20.000000</td>\n",
       "      <td>22.000000</td>\n",
       "    </tr>\n",
       "    <tr>\n",
       "      <th>25%</th>\n",
       "      <td>0.000000</td>\n",
       "      <td>1.000000</td>\n",
       "      <td>0.000000</td>\n",
       "      <td>1.000000</td>\n",
       "      <td>3.000000</td>\n",
       "      <td>0.340000</td>\n",
       "      <td>152.000000</td>\n",
       "      <td>0.770000</td>\n",
       "      <td>315.500000</td>\n",
       "      <td>2497.000000</td>\n",
       "      <td>3199.000000</td>\n",
       "    </tr>\n",
       "    <tr>\n",
       "      <th>50%</th>\n",
       "      <td>0.000000</td>\n",
       "      <td>3.000000</td>\n",
       "      <td>1.000000</td>\n",
       "      <td>1.000000</td>\n",
       "      <td>5.000000</td>\n",
       "      <td>0.490000</td>\n",
       "      <td>163.000000</td>\n",
       "      <td>0.820000</td>\n",
       "      <td>713.000000</td>\n",
       "      <td>3662.000000</td>\n",
       "      <td>4563.000000</td>\n",
       "    </tr>\n",
       "    <tr>\n",
       "      <th>75%</th>\n",
       "      <td>0.000000</td>\n",
       "      <td>5.000000</td>\n",
       "      <td>1.000000</td>\n",
       "      <td>2.000000</td>\n",
       "      <td>7.000000</td>\n",
       "      <td>0.610000</td>\n",
       "      <td>173.000000</td>\n",
       "      <td>0.870000</td>\n",
       "      <td>1096.000000</td>\n",
       "      <td>4795.500000</td>\n",
       "      <td>6011.500000</td>\n",
       "    </tr>\n",
       "    <tr>\n",
       "      <th>max</th>\n",
       "      <td>10.000000</td>\n",
       "      <td>6.000000</td>\n",
       "      <td>1.000000</td>\n",
       "      <td>3.000000</td>\n",
       "      <td>9.000000</td>\n",
       "      <td>0.840000</td>\n",
       "      <td>197.000000</td>\n",
       "      <td>0.980000</td>\n",
       "      <td>3410.000000</td>\n",
       "      <td>33380.000000</td>\n",
       "      <td>8714.000000</td>\n",
       "    </tr>\n",
       "  </tbody>\n",
       "</table>\n",
       "</div>"
      ],
      "text/plain": [
       "       limit_infor  campaign_type  campaign_level  product_level  \\\n",
       "count   731.000000     731.000000      731.000000     731.000000   \n",
       "mean      0.042408       2.997264        0.683995       1.395349   \n",
       "std       0.404911       2.004787        0.465233       0.544894   \n",
       "min       0.000000       0.000000        0.000000       1.000000   \n",
       "25%       0.000000       1.000000        0.000000       1.000000   \n",
       "50%       0.000000       3.000000        1.000000       1.000000   \n",
       "75%       0.000000       5.000000        1.000000       2.000000   \n",
       "max      10.000000       6.000000        1.000000       3.000000   \n",
       "\n",
       "       resource_amount  email_rate       price  discount_rate  hour_resouces  \\\n",
       "count       731.000000  731.000000  729.000000     731.000000     731.000000   \n",
       "mean          4.952120    0.474337  162.812071       0.809617     848.176471   \n",
       "std           1.838449    0.162913   14.267136       0.077679     686.622488   \n",
       "min           1.000000    0.080000  100.000000       0.490000       2.000000   \n",
       "25%           3.000000    0.340000  152.000000       0.770000     315.500000   \n",
       "50%           5.000000    0.490000  163.000000       0.820000     713.000000   \n",
       "75%           7.000000    0.610000  173.000000       0.870000    1096.000000   \n",
       "max           9.000000    0.840000  197.000000       0.980000    3410.000000   \n",
       "\n",
       "       campaign_fee       orders  \n",
       "count    731.000000   731.000000  \n",
       "mean    3696.391245  4531.079343  \n",
       "std     1908.643139  1932.532346  \n",
       "min       20.000000    22.000000  \n",
       "25%     2497.000000  3199.000000  \n",
       "50%     3662.000000  4563.000000  \n",
       "75%     4795.500000  6011.500000  \n",
       "max    33380.000000  8714.000000  "
      ]
     },
     "execution_count": 6,
     "metadata": {},
     "output_type": "execute_result"
    }
   ],
   "source": [
    "data.describe()"
   ]
  },
  {
   "cell_type": "code",
   "execution_count": 7,
   "metadata": {
    "collapsed": false
   },
   "outputs": [
    {
     "name": "stdout",
     "output_type": "stream",
     "text": [
      "**************limit_infor unique values:[ 0  1 10]***************\n",
      "**************campaign_type unique values:[0 1 2 3 4 5 6]***************\n",
      "**************campaign_level unique values:[0 1]***************\n",
      "**************product_level unique values:[1 2 3]***************\n"
     ]
    }
   ],
   "source": [
    "col_names = ['limit_infor', 'campaign_type', 'campaign_level', 'product_level']  \n",
    "for col_name in col_names: \n",
    "    unque_value = np.sort(data[col_name].unique()) \n",
    "    print ('{:*^50}'.format('{1} unique values:{0}').format(unque_value, col_name)) "
   ]
  },
  {
   "cell_type": "code",
   "execution_count": 8,
   "metadata": {
    "collapsed": false
   },
   "outputs": [
    {
     "data": {
      "text/html": [
       "<div>\n",
       "<style scoped>\n",
       "    .dataframe tbody tr th:only-of-type {\n",
       "        vertical-align: middle;\n",
       "    }\n",
       "\n",
       "    .dataframe tbody tr th {\n",
       "        vertical-align: top;\n",
       "    }\n",
       "\n",
       "    .dataframe thead th {\n",
       "        text-align: right;\n",
       "    }\n",
       "</style>\n",
       "<table border=\"1\" class=\"dataframe\">\n",
       "  <thead>\n",
       "    <tr style=\"text-align: right;\">\n",
       "      <th></th>\n",
       "      <th>limit_infor</th>\n",
       "      <th>campaign_type</th>\n",
       "      <th>campaign_level</th>\n",
       "      <th>product_level</th>\n",
       "      <th>resource_amount</th>\n",
       "      <th>email_rate</th>\n",
       "      <th>price</th>\n",
       "      <th>discount_rate</th>\n",
       "      <th>hour_resouces</th>\n",
       "      <th>campaign_fee</th>\n",
       "      <th>orders</th>\n",
       "    </tr>\n",
       "  </thead>\n",
       "  <tbody>\n",
       "    <tr>\n",
       "      <th>705</th>\n",
       "      <td>10</td>\n",
       "      <td>4</td>\n",
       "      <td>1</td>\n",
       "      <td>1</td>\n",
       "      <td>8</td>\n",
       "      <td>0.74</td>\n",
       "      <td>158.0</td>\n",
       "      <td>0.82</td>\n",
       "      <td>606</td>\n",
       "      <td>3784</td>\n",
       "      <td>4390</td>\n",
       "    </tr>\n",
       "  </tbody>\n",
       "</table>\n",
       "</div>"
      ],
      "text/plain": [
       "     limit_infor  campaign_type  campaign_level  product_level  \\\n",
       "705           10              4               1              1   \n",
       "\n",
       "     resource_amount  email_rate  price  discount_rate  hour_resouces  \\\n",
       "705                8        0.74  158.0           0.82            606   \n",
       "\n",
       "     campaign_fee  orders  \n",
       "705          3784    4390  "
      ]
     },
     "execution_count": 8,
     "metadata": {},
     "output_type": "execute_result"
    }
   ],
   "source": [
    "data[data[\"limit_infor\"]==10]"
   ]
  },
  {
   "cell_type": "code",
   "execution_count": 10,
   "metadata": {
    "collapsed": false
   },
   "outputs": [],
   "source": [
    "# process null value and outlier\n",
    "sales_data = data.fillna(data['price'].mean())  \n",
    "sales_data = sales_data[sales_data['limit_infor'].isin((0, 1))] \n",
    "sales_data['campaign_fee'] = sales_data['campaign_fee'].replace(33380, sales_data['campaign_fee'].mean())   "
   ]
  },
  {
   "cell_type": "code",
   "execution_count": 11,
   "metadata": {
    "collapsed": false
   },
   "outputs": [
    {
     "name": "stderr",
     "output_type": "stream",
     "text": [
      "/usr/local/lib/python3.5/dist-packages/ipykernel/__main__.py:1: DeprecationWarning: \n",
      ".ix is deprecated. Please use\n",
      ".loc for label based indexing or\n",
      ".iloc for positional indexing\n",
      "\n",
      "See the documentation here:\n",
      "http://pandas.pydata.org/pandas-docs/stable/indexing.html#ix-indexer-is-deprecated\n",
      "  if __name__ == '__main__':\n"
     ]
    },
    {
     "name": "stdout",
     "output_type": "stream",
     "text": [
      "Best score is: 0.9316493410140942\n",
      "Best parameter is: {'alpha': 0.9, 'min_samples_leaf': 3, 'loss': 'huber'}\n"
     ]
    }
   ],
   "source": [
    "X = sales_data.ix[:, :-1]  \n",
    "y = sales_data.ix[:, -1] \n",
    "\n",
    "model_gbr = GradientBoostingRegressor() \n",
    "parameters = {'loss': ['ls', 'lad', 'huber', 'quantile'],\n",
    "              'min_samples_leaf': [1, 2, 3, 4, 5],\n",
    "              'alpha': [0.1, 0.3, 0.6, 0.9]}\n",
    "model_gs = GridSearchCV(estimator=model_gbr, param_grid=parameters, cv=5) \n",
    "model_gs.fit(X, y) \n",
    "print ('Best score is:', model_gs.best_score_) \n",
    "print ('Best parameter is:', model_gs.best_params_)"
   ]
  },
  {
   "cell_type": "code",
   "execution_count": null,
   "metadata": {
    "collapsed": true
   },
   "outputs": [],
   "source": []
  }
 ],
 "metadata": {
  "kernelspec": {
   "display_name": "Python 3",
   "language": "python",
   "name": "python3"
  },
  "language_info": {
   "codemirror_mode": {
    "name": "ipython",
    "version": 3
   },
   "file_extension": ".py",
   "mimetype": "text/x-python",
   "name": "python",
   "nbconvert_exporter": "python",
   "pygments_lexer": "ipython3",
   "version": "3.5.2"
  }
 },
 "nbformat": 4,
 "nbformat_minor": 2
}
