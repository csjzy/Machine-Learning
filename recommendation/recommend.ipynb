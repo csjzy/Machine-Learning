{
 "cells": [
  {
   "cell_type": "code",
   "execution_count": 1,
   "metadata": {
    "collapsed": true
   },
   "outputs": [],
   "source": [
    "import numpy as np\n",
    "from math import *"
   ]
  },
  {
   "cell_type": "code",
   "execution_count": 2,
   "metadata": {
    "collapsed": true
   },
   "outputs": [],
   "source": [
    "def cos_sim(x, y):\n",
    "    #cos distance\n",
    "    inner_product = x * y.T\n",
    "    norm = np.sqrt(x * x.T) * np.sqrt(y * y.T)\n",
    "    return (inner_product / norm)[0, 0]"
   ]
  },
  {
   "cell_type": "code",
   "execution_count": 20,
   "metadata": {
    "collapsed": false
   },
   "outputs": [],
   "source": [
    "def similarity(data):\n",
    "    #matrix for similarity\n",
    "    m =np.shape(data)[0]\n",
    "    w =np.mat(np.zeros((m, m)))\n",
    "    for i in range(m):\n",
    "        for j in range(i, m):\n",
    "            if j != i:\n",
    "                w[i, j] = cos_sim(data[i], data[j])\n",
    "                w[j, i] = w[i, j]\n",
    "            else:\n",
    "                w[i, j] = 0\n",
    "    return w"
   ]
  },
  {
   "cell_type": "code",
   "execution_count": 28,
   "metadata": {
    "collapsed": true
   },
   "outputs": [],
   "source": [
    "def user_based_recommend(data, w, user):\n",
    "    m, n = np.shape(data)\n",
    "    # m is number for user\n",
    "    # n is number for product\n",
    "    user_product = data[user, ]\n",
    "    not_score = []\n",
    "    for i in range(n):\n",
    "        if user_product[0, i] == 0:\n",
    "            not_score.append(i)\n",
    "    # Forecasting products that are not scored\n",
    "    predict = {}\n",
    "    for x in not_score:\n",
    "        item = data[:, x]\n",
    "        for i in range(m):\n",
    "            if item[i, 0] != 0:\n",
    "                if x not in predict:\n",
    "                    predict[x] = w[user, i] * item[i, 0]\n",
    "                else:\n",
    "                    predict[x] = predict[x] + w[user, i] * item[i, 0]\n",
    "    # sort by value\n",
    "    return sorted(predict.items(), key=lambda p: p[1], reverse=True)\n"
   ]
  },
  {
   "cell_type": "code",
   "execution_count": 27,
   "metadata": {
    "collapsed": true
   },
   "outputs": [],
   "source": [
    "def item_based_recommend(data, w, user):\n",
    "    m, n = np.shape(data) \n",
    "    user_product = data[:, user].T\n",
    "    not_score = []\n",
    "    for i in range(m):\n",
    "        if user_product[0, i] == 0:\n",
    "            not_score.append(i)\n",
    "\n",
    "    predict = {}\n",
    "    for x in not_score:\n",
    "        item = user_product\n",
    "        for i in range(m):\n",
    "            if item[0, i] != 0:\n",
    "                if x not in predict:\n",
    "                    predict[x] = w[x, i] * item[0, i]\n",
    "                else:\n",
    "                    predict[x] = predict[x] + w[x, i] * item[0, i]\n",
    "\n",
    "    # sort by value\n",
    "    return sorted(predict.items(), key=lambda p: p[1], reverse=True)\n"
   ]
  },
  {
   "cell_type": "code",
   "execution_count": 22,
   "metadata": {
    "collapsed": false
   },
   "outputs": [],
   "source": [
    "User1 = np.mat([\n",
    "    [4, 0, 0, 5,1,0,0],\n",
    "    [5, 0, 4, 4,2,1,3],\n",
    "    [4, 0, 5, 0,2,0,2],\n",
    "    [2, 3, 0, 1,3,1,1],\n",
    "    [0, 4, 2, 0,1,1,4],\n",
    "])\n"
   ]
  },
  {
   "cell_type": "code",
   "execution_count": 23,
   "metadata": {
    "collapsed": true
   },
   "outputs": [],
   "source": [
    "w = similarity(np.mat(User1))\n"
   ]
  },
  {
   "cell_type": "code",
   "execution_count": 24,
   "metadata": {
    "collapsed": false
   },
   "outputs": [
    {
     "data": {
      "text/plain": [
       "matrix([[0.        , 0.76912242, 0.39678004, 0.49377072, 0.02503131],\n",
       "        [0.76912242, 0.        , 0.84770118, 0.5696552 , 0.44279924],\n",
       "        [0.39678004, 0.84770118, 0.        , 0.45714286, 0.46348977],\n",
       "        [0.49377072, 0.5696552 , 0.45714286, 0.        , 0.64888568],\n",
       "        [0.02503131, 0.44279924, 0.46348977, 0.64888568, 0.        ]])"
      ]
     },
     "execution_count": 24,
     "metadata": {},
     "output_type": "execute_result"
    }
   ],
   "source": [
    "w"
   ]
  },
  {
   "cell_type": "code",
   "execution_count": 25,
   "metadata": {
    "collapsed": true
   },
   "outputs": [],
   "source": [
    "predict = user_based_recommend(User1, w, 0)"
   ]
  },
  {
   "cell_type": "code",
   "execution_count": 26,
   "metadata": {
    "collapsed": false
   },
   "outputs": [
    {
     "data": {
      "text/plain": [
       "[(2, 5.110452508182849),\n",
       " (6, 3.6948232979766367),\n",
       " (1, 1.5814373945004343),\n",
       " (5, 1.2879244478328693)]"
      ]
     },
     "execution_count": 26,
     "metadata": {},
     "output_type": "execute_result"
    }
   ],
   "source": [
    "predict"
   ]
  },
  {
   "cell_type": "code",
   "execution_count": null,
   "metadata": {
    "collapsed": true
   },
   "outputs": [],
   "source": []
  }
 ],
 "metadata": {
  "kernelspec": {
   "display_name": "Python 3",
   "language": "python",
   "name": "python3"
  },
  "language_info": {
   "codemirror_mode": {
    "name": "ipython",
    "version": 3
   },
   "file_extension": ".py",
   "mimetype": "text/x-python",
   "name": "python",
   "nbconvert_exporter": "python",
   "pygments_lexer": "ipython3",
   "version": "3.5.2"
  }
 },
 "nbformat": 4,
 "nbformat_minor": 2
}
